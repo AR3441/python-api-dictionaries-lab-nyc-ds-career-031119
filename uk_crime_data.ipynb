{
 "cells": [
  {
   "cell_type": "markdown",
   "metadata": {},
   "source": [
    "## We will be analyzing different crimes reported in the UK as provided by https://data.police.uk/docs/"
   ]
  },
  {
   "cell_type": "markdown",
   "metadata": {},
   "source": [
    "# Exploratory analysis\n",
    "##### 1. How many total crimes were there at latitude : 52.63902 and -1.131321 on November of 2017.\n",
    "Use the street level crimes data, the documentation for the API can be found at https://data.police.uk/docs/method/crime-street/"
   ]
  },
  {
   "cell_type": "code",
   "execution_count": 72,
   "metadata": {},
   "outputs": [
    {
     "data": {
      "text/plain": [
       "1334"
      ]
     },
     "execution_count": 72,
     "metadata": {},
     "output_type": "execute_result"
    }
   ],
   "source": [
    "import json\n",
    "import requests\n",
    "response = requests.get('https://data.police.uk/api/crimes-street/all-crime?lat=52.63902&lng=-1.131321&date=2017-11')\n",
    "all_crimes = response.json()\n",
    "len(all_crimes)"
   ]
  },
  {
   "cell_type": "markdown",
   "metadata": {},
   "source": [
    "##### 2. We've queried the API once, but it could get annoying to retype the url over and over again, create a function `make_api_request` that enables you to query the API.\n",
    "\n",
    "\n",
    " The parameters for the function should be:\n",
    "* lat (int)\n",
    "* lng (int)\n",
    "* date (string): Date in the format YYYY-MM\n",
    "    * default value = `None`\n",
    "    \n",
    "And it should return a json object of \n",
    "\n",
    "for more information on default values check out http://blog.thedigitalcatonline.com/blog/2015/02/11/default-arguments-in-python/"
   ]
  },
  {
   "cell_type": "code",
   "execution_count": 45,
   "metadata": {},
   "outputs": [],
   "source": [
    "def make_api_request(lat,lng,date):\n",
    "    url = 'https://data.police.uk/api/crimes-street/all-crime?lat=' + lat + '&lng=' + lng + '&date=' + date \n",
    "    response = requests.get(url)\n",
    "    return response.json()\n",
    "    \n",
    "# response = requests.get('https://data.police.uk/api/crimes-street/all-crime?lat=52.629729&lng=-1.131592&date=2017-01')\n",
    "crimes = make_api_request('52.63902','-1.131321','2017-11')"
   ]
  },
  {
   "cell_type": "markdown",
   "metadata": {},
   "source": [
    "##### 3. Write a function that will determine the count of each type of crime for a given latitude and longitude. This is labelled as 'category' in the records\n",
    "\n",
    "The parameters for the function should be:\n",
    "\n",
    "* lat (int)\n",
    "* lng (int)\n",
    "\n",
    "The function should return a dictionary with the count of each type of crime\n",
    "\n",
    "Once you've created it, try it with these locations\n",
    "* lat, lng of 51.5017861,-0.1432319   (Buckingham Palace)\n",
    "* lat, lng of 55.948811, 3.197982     (Edinburgh Castle)\n",
    "\n",
    "*Bonus*: \n",
    "* Write a function that determines the difference between Buckingham Palace and Edinburgh Castle in terms of the number of crimes in each category.\n",
    "    * In which category is there the largest absolute difference between the category of crime?\n",
    "    * Is there a way to account for differences in overall crime levels? (Think math here)"
   ]
  },
  {
   "cell_type": "code",
   "execution_count": 69,
   "metadata": {},
   "outputs": [
    {
     "data": {
      "text/plain": [
       "1334"
      ]
     },
     "execution_count": 69,
     "metadata": {},
     "output_type": "execute_result"
    }
   ],
   "source": [
    "category_dict = {}\n",
    "for crime in all_crimes:\n",
    "    if crime['category'] in category_dict:\n",
    "        category_dict[crime['category']] +=1\n",
    "    else:\n",
    "        category_dict[crime['category']] = 1\n",
    "        "
   ]
  },
  {
   "cell_type": "code",
   "execution_count": 73,
   "metadata": {},
   "outputs": [
    {
     "data": {
      "text/plain": [
       "{'anti-social-behaviour': 205,\n",
       " 'bicycle-theft': 74,\n",
       " 'burglary': 135,\n",
       " 'criminal-damage-arson': 95,\n",
       " 'drugs': 40,\n",
       " 'other-theft': 154,\n",
       " 'possession-of-weapons': 22,\n",
       " 'public-order': 57,\n",
       " 'robbery': 22,\n",
       " 'shoplifting': 143,\n",
       " 'theft-from-the-person': 15,\n",
       " 'vehicle-crime': 100,\n",
       " 'violent-crime': 242,\n",
       " 'other-crime': 22}"
      ]
     },
     "execution_count": 73,
     "metadata": {},
     "output_type": "execute_result"
    }
   ],
   "source": [
    "category_dict"
   ]
  },
  {
   "cell_type": "markdown",
   "metadata": {},
   "source": [
    "##### 4. What is the distribution of outcome statuses for a given latitude and longitude?\n",
    "\n",
    "**NOTE**: You'll notice that some of these crimes do not have crime outcomes. Make these into the category of \"Not Resolved.\"\n",
    "\n",
    "\n",
    "*Bonus* : What is the ratio of crimes investigated to those not investigated? Is it higher near Edinburgh Castle or "
   ]
  },
  {
   "cell_type": "code",
   "execution_count": 66,
   "metadata": {},
   "outputs": [],
   "source": [
    "from collections import Counter\n",
    "sublocation = []\n",
    "for crime in all_crimes:\n",
    "    if crime['outcome_status']:\n",
    "        sublocation.append(crime['outcome_status']['category'])\n",
    "    else:\n",
    "        sublocation.append('Not Resolved')\n",
    "d = Counter(sublocation)       \n",
    "    "
   ]
  },
  {
   "cell_type": "code",
   "execution_count": null,
   "metadata": {},
   "outputs": [],
   "source": [
    "url = 'https://data.police.uk/api/crimes-street/all-crime?date=' + date "
   ]
  },
  {
   "cell_type": "code",
   "execution_count": 67,
   "metadata": {},
   "outputs": [
    {
     "data": {
      "text/plain": [
       "Counter({'Not Resolved': 205,\n",
       "         'Investigation complete; no suspect identified': 609,\n",
       "         'Unable to prosecute suspect': 258,\n",
       "         'Local resolution': 31,\n",
       "         'Status update unavailable': 33,\n",
       "         'Offender given community sentence': 23,\n",
       "         'Court result unavailable': 54,\n",
       "         'Suspect charged as part of another case': 9,\n",
       "         'Offender sent to prison': 24,\n",
       "         'Offender otherwise dealt with': 5,\n",
       "         'Offender given a caution': 10,\n",
       "         'Court case unable to proceed': 8,\n",
       "         'Defendant found not guilty': 12,\n",
       "         'Offender fined': 6,\n",
       "         'Formal action is not in the public interest': 11,\n",
       "         'Offender ordered to pay compensation': 4,\n",
       "         'Offender deprived of property': 4,\n",
       "         'Offender given conditional discharge': 5,\n",
       "         'Offender given suspended prison sentence': 11,\n",
       "         'Awaiting court outcome': 1,\n",
       "         'Defendant sent to Crown Court': 1,\n",
       "         'Action to be taken by another organisation': 2})"
      ]
     },
     "execution_count": 67,
     "metadata": {},
     "output_type": "execute_result"
    }
   ],
   "source": [
    "d"
   ]
  },
  {
   "cell_type": "markdown",
   "metadata": {},
   "source": [
    "##### 5. Write a function that will return the month that had the highest number of crimes for a latitude, longitude and a year.\n",
    "* Bonus* Make a graph of how the number of crimes changed over time for a year. Is seasonality a factor?"
   ]
  },
  {
   "cell_type": "markdown",
   "metadata": {},
   "source": [
    "## Bonus Open Ended Questions\n",
    "\n",
    "1. Take a look at the https://data.police.uk/docs/method/stops-street/ API. Is there a correlation between gender and being stopped and searched? How about race and being stopped and searched?"
   ]
  }
 ],
 "metadata": {
  "kernelspec": {
   "display_name": "Python 3",
   "language": "python",
   "name": "python3"
  },
  "language_info": {
   "codemirror_mode": {
    "name": "ipython",
    "version": 3
   },
   "file_extension": ".py",
   "mimetype": "text/x-python",
   "name": "python",
   "nbconvert_exporter": "python",
   "pygments_lexer": "ipython3",
   "version": "3.6.5"
  }
 },
 "nbformat": 4,
 "nbformat_minor": 2
}
