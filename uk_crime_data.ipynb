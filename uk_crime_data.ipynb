{
 "cells": [
  {
   "cell_type": "markdown",
   "metadata": {},
   "source": [
    "## We will be analyzing different crimes reported in the UK as provided by https://data.police.uk/docs/"
   ]
  },
  {
   "cell_type": "markdown",
   "metadata": {},
   "source": [
    "# Exploratory analysis\n",
    "##### 1. How many total crimes were there at latitude : 52.63902 and -1.131321 on November of 2017.\n",
    "Use the street level crimes data, the documentation for the API can be found at https://data.police.uk/docs/method/crime-street/"
   ]
  },
  {
   "cell_type": "code",
   "execution_count": 1,
   "metadata": {},
   "outputs": [
    {
     "data": {
      "text/plain": [
       "1334"
      ]
     },
     "execution_count": 1,
     "metadata": {},
     "output_type": "execute_result"
    }
   ],
   "source": [
    "import json\n",
    "import requests\n",
    "response = requests.get('https://data.police.uk/api/crimes-street/all-crime?lat=52.63902&lng=-1.131321&date=2017-11')\n",
    "all_crimes = response.json()\n",
    "len(all_crimes)"
   ]
  },
  {
   "cell_type": "markdown",
   "metadata": {},
   "source": [
    "##### 2. We've queried the API once, but it could get annoying to retype the url over and over again, create a function `make_api_request` that enables you to query the API.\n",
    "\n",
    "\n",
    " The parameters for the function should be:\n",
    "* lat (float) : latitude\n",
    "* lng (float) : longitude\n",
    "* date (string): Date in the format YYYY-MM\n",
    "    * default value = `None`\n",
    "    \n",
    "And it should return a json object of \n",
    "\n",
    "for more information on default values check out http://blog.thedigitalcatonline.com/blog/2015/02/11/default-arguments-in-python/"
   ]
  },
  {
   "cell_type": "code",
   "execution_count": 11,
   "metadata": {},
   "outputs": [],
   "source": [
    "def make_api_request(lat,lng,date=None):\n",
    "    if date:\n",
    "        url = 'https://data.police.uk/api/crimes-street/all-crime?lat=' + str(lat) + '&lng=' + str(lng) + '&date=' + date \n",
    "    else :\n",
    "        url = 'https://data.police.uk/api/crimes-street/all-crime?lat=' + str(lat) + '&lng=' + str(lng)\n",
    "    response = requests.get(url)\n",
    "    return response.json()\n",
    "    \n",
    "# response = requests.get('https://data.police.uk/api/crimes-street/all-crime?lat=52.629729&lng=-1.131592&date=2017-01')\n",
    "crimes = make_api_request(52.63902,-1.131321,'2017-11')"
   ]
  },
  {
   "cell_type": "code",
   "execution_count": 12,
   "metadata": {},
   "outputs": [
    {
     "data": {
      "text/plain": [
       "[{'category': 'anti-social-behaviour',\n",
       "  'location_type': 'Force',\n",
       "  'location': {'latitude': '52.635184',\n",
       "   'street': {'id': 883410, 'name': 'On or near Shopping Area'},\n",
       "   'longitude': '-1.135455'},\n",
       "  'context': '',\n",
       "  'outcome_status': None,\n",
       "  'persistent_id': '',\n",
       "  'id': 61222401,\n",
       "  'location_subtype': '',\n",
       "  'month': '2017-11'},\n",
       " {'category': 'anti-social-behaviour',\n",
       "  'location_type': 'Force',\n",
       "  'location': {'latitude': '52.637674',\n",
       "   'street': {'id': 883469, 'name': 'On or near Tudor Road'},\n",
       "   'longitude': '-1.147819'},\n",
       "  'context': '',\n",
       "  'outcome_status': None,\n",
       "  'persistent_id': '',\n",
       "  'id': 61223188,\n",
       "  'location_subtype': '',\n",
       "  'month': '2017-11'},\n",
       " {'category': 'anti-social-behaviour',\n",
       "  'location_type': 'Force',\n",
       "  'location': {'latitude': '52.629501',\n",
       "   'street': {'id': 883363, 'name': 'On or near Grange Lane'},\n",
       "   'longitude': '-1.136424'},\n",
       "  'context': '',\n",
       "  'outcome_status': None,\n",
       "  'persistent_id': '',\n",
       "  'id': 61222667,\n",
       "  'location_subtype': '',\n",
       "  'month': '2017-11'}]"
      ]
     },
     "execution_count": 12,
     "metadata": {},
     "output_type": "execute_result"
    }
   ],
   "source": [
    "crimes[:3]"
   ]
  },
  {
   "cell_type": "markdown",
   "metadata": {},
   "source": [
    "##### 3. Write a function `categories_of_crime` that will determine the count of each type of crime for a given latitude and longitude. This is labelled as 'category' in the records. Your function should call the `make_api_request` function you created.\n",
    "\n",
    "The parameters for the function should be:\n",
    "\n",
    "* lat (float) : latitude\n",
    "* lng (float) : longitude\n",
    "* date (str) default = None\n",
    "\n",
    "The function should return:\n",
    "* a dictionary with the count of each type of crime\n",
    "\n",
    "\n",
    "\n",
    "Once you've created the function, try it with these locations\n",
    "* lat, lng of 51.5017861,-0.1432319   (Buckingham Palace)\n",
    "* lat, lng of 53.480161, -2.245163     (Manchester)\n",
    "\n"
   ]
  },
  {
   "cell_type": "markdown",
   "metadata": {},
   "source": [
    "**Bonus**: \n",
    "* Write a function that determines the difference between Buckingham Palace and Edinburgh Castle in terms of the number of crimes in each category.\n",
    "    * In which category is there the largest absolute difference between the category of crime?\n",
    "* Create a histogram depiction of the categories of crime"
   ]
  },
  {
   "cell_type": "code",
   "execution_count": 47,
   "metadata": {},
   "outputs": [],
   "source": [
    "buckingham = (51.5017861,-0.1432319)\n",
    "edinburgh = (55.948811,-3.197982)\n",
    "manchester = (53.480161,-2.245163)"
   ]
  },
  {
   "cell_type": "code",
   "execution_count": 48,
   "metadata": {},
   "outputs": [],
   "source": [
    "def categories_of_crime(lat,lng,date = None):\n",
    "    crimes = make_api_request(lat,lng,date)\n",
    "    category_dict = {}\n",
    "    for crime in crimes:\n",
    "        if crime['category'] in category_dict:\n",
    "            category_dict[crime['category']] +=1\n",
    "        else:\n",
    "            category_dict[crime['category']] = 1\n",
    "    return category_dict"
   ]
  },
  {
   "cell_type": "code",
   "execution_count": 41,
   "metadata": {},
   "outputs": [
    {
     "name": "stdout",
     "output_type": "stream",
     "text": [
      "Buckingham Palace crime categories: {'anti-social-behaviour': 608, 'bicycle-theft': 65, 'burglary': 138, 'criminal-damage-arson': 82, 'drugs': 74, 'other-theft': 810, 'possession-of-weapons': 26, 'public-order': 174, 'robbery': 141, 'shoplifting': 329, 'theft-from-the-person': 586, 'vehicle-crime': 102, 'violent-crime': 553, 'other-crime': 22}\n"
     ]
    }
   ],
   "source": [
    "buck_categories = categories_of_crime(buckingham[0],buckingham[1])\n",
    "print('Buckingham Palace crime categories:',buck_categories)"
   ]
  },
  {
   "cell_type": "code",
   "execution_count": 42,
   "metadata": {},
   "outputs": [
    {
     "name": "stdout",
     "output_type": "stream",
     "text": [
      "Edinburgh Castle crime categories {'criminal-damage-arson': 1, 'drugs': 1, 'other-theft': 9, 'possession-of-weapons': 1, 'public-order': 1, 'shoplifting': 4, 'violent-crime': 7, 'other-crime': 2}\n"
     ]
    }
   ],
   "source": [
    "edin_categories = categories_of_crime(edinburgh[0],edinburgh[1])\n",
    "print('Edinburgh Castle crime categories',edin_categories)"
   ]
  },
  {
   "cell_type": "code",
   "execution_count": 46,
   "metadata": {},
   "outputs": [
    {
     "name": "stdout",
     "output_type": "stream",
     "text": [
      "{'anti-social-behaviour': 422, 'bicycle-theft': 86, 'burglary': 95, 'criminal-damage-arson': 132, 'drugs': 42, 'other-theft': 357, 'possession-of-weapons': 25, 'public-order': 289, 'robbery': 134, 'shoplifting': 159, 'theft-from-the-person': 321, 'vehicle-crime': 284, 'violent-crime': 607, 'other-crime': 25}\n"
     ]
    }
   ],
   "source": [
    "manch_categories = categories_of_crime(manchester[0],manchester[1])\n",
    "print(manch_categories)"
   ]
  },
  {
   "cell_type": "markdown",
   "metadata": {},
   "source": [
    "##### 4. Create a function `find_outcome_statuses` that will determine outcome statuses for a given latitude and longitude and date (optional)?\n",
    "Investigate the data to determine where the outcome statuses are located.\n",
    "\n",
    "**NOTE**: You'll notice that some of these crimes do not have crime outcomes. Make these into the category of \"Not Resolved.\"\n",
    "\n",
    "**NOTE 2**: These might take a long time to execute if you do not specify a month\n",
    "\n",
    "**Bonus**: What is the ratio of crimes investigated to those not investigated? Is it higher near London or Manchester?"
   ]
  },
  {
   "cell_type": "code",
   "execution_count": 56,
   "metadata": {},
   "outputs": [],
   "source": [
    "from collections import Counter\n",
    "\n",
    "def find_outcome_statuses(lat,lng,date=None):\n",
    "    outcome_status = []\n",
    "    crimes = make_api_request(lat,lng,date)\n",
    "    for crime in crimes:\n",
    "        if crime['outcome_status']:\n",
    "            outcome_status.append(crime['outcome_status']['category'])\n",
    "        else:\n",
    "            outcome_status.append('Not Resolved')\n",
    "    d = Counter(outcome_status)    \n",
    "    return d\n",
    "    "
   ]
  },
  {
   "cell_type": "code",
   "execution_count": 57,
   "metadata": {
    "scrolled": true
   },
   "outputs": [
    {
     "name": "stdout",
     "output_type": "stream",
     "text": [
      "Counter({'Under investigation': 2730, 'Not Resolved': 608, 'Investigation complete; no suspect identified': 201, 'Awaiting court outcome': 85, 'Local resolution': 66, 'Offender given a caution': 15, 'Offender given penalty notice': 3, 'Offender given a drugs possession warning': 2})\n"
     ]
    }
   ],
   "source": [
    "buck_outcomes = find_outcome_statuses(buckingham[0],buckingham[1])\n",
    "print(buck_outcomes)"
   ]
  },
  {
   "cell_type": "code",
   "execution_count": 59,
   "metadata": {},
   "outputs": [
    {
     "name": "stdout",
     "output_type": "stream",
     "text": [
      "Counter({'Investigation complete; no suspect identified': 1834, 'Not Resolved': 445, 'Unable to prosecute suspect': 376, 'Status update unavailable': 266, 'Further investigation is not in the public interest': 92, 'Court result unavailable': 72, 'Local resolution': 44, 'Awaiting court outcome': 19, 'Offender sent to prison': 17, 'Offender given community sentence': 14, 'Formal action is not in the public interest': 13, 'Offender given a drugs possession warning': 11, 'Offender given a caution': 9, 'Offender given suspended prison sentence': 8, 'Offender fined': 4, 'Offender given penalty notice': 2, 'Defendant sent to Crown Court': 2, 'Defendant found not guilty': 2, 'Court case unable to proceed': 2, 'Offender given conditional discharge': 1, 'Offender given absolute discharge': 1})\n"
     ]
    }
   ],
   "source": [
    "manch_outcomes = find_outcome_statuses(manchester[0],manchester[1],'2017-10')\n",
    "print(manch_outcomes)"
   ]
  },
  {
   "cell_type": "markdown",
   "metadata": {},
   "source": [
    "##### 5. Write a function `month_highest_crimes` that will return the month that had the highest number of crimes for a latitude, longitude and a year.\n",
    "\n",
    "Inputs\n",
    "* lat (float) : latitude\n",
    "* lng (float) : longitude\n",
    "* year (str) : in the format YYYY\n",
    "\n",
    "Output\n",
    "* month with highest crime (int)\n",
    "\n",
    "**Bonus** Make a graph of how the number of crimes changed over time for a year. This will likely require a new function. Is seasonality a factor? Do the type of crimes change over time?"
   ]
  },
  {
   "cell_type": "code",
   "execution_count": 60,
   "metadata": {},
   "outputs": [],
   "source": [
    "def month_highest_crimes(lat,lng,year):\n",
    "    month_crimes = {}\n",
    "    for month in range(1,13):\n",
    "        month_crimes[str(month)] = len(make_api_request(lat,lng,year+'-' +str(month)))\n",
    "    return max(month_crimes, key=month_crimes.get)"
   ]
  },
  {
   "cell_type": "code",
   "execution_count": 61,
   "metadata": {},
   "outputs": [],
   "source": [
    "manch_highest_month = month_highest_crimes(manchester[0],manchester[1],'2016')"
   ]
  },
  {
   "cell_type": "code",
   "execution_count": 62,
   "metadata": {},
   "outputs": [
    {
     "data": {
      "text/plain": [
       "'12'"
      ]
     },
     "execution_count": 62,
     "metadata": {},
     "output_type": "execute_result"
    }
   ],
   "source": [
    "manch_highest_month"
   ]
  },
  {
   "cell_type": "markdown",
   "metadata": {},
   "source": [
    "## Bonus Open Ended Questions\n",
    "\n",
    "1. Take a look at the https://data.police.uk/docs/method/stops-street/ API. Is there a correlation between gender and being stopped and searched? How about race and being stopped and searched?"
   ]
  }
 ],
 "metadata": {
  "kernelspec": {
   "display_name": "Python 3",
   "language": "python",
   "name": "python3"
  },
  "language_info": {
   "codemirror_mode": {
    "name": "ipython",
    "version": 3
   },
   "file_extension": ".py",
   "mimetype": "text/x-python",
   "name": "python",
   "nbconvert_exporter": "python",
   "pygments_lexer": "ipython3",
   "version": "3.6.5"
  }
 },
 "nbformat": 4,
 "nbformat_minor": 2
}
