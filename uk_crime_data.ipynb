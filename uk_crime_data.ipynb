{
 "cells": [
  {
   "cell_type": "markdown",
   "metadata": {},
   "source": [
    "## We will be analyzing different crimes reported in the UK as provided by https://data.police.uk/docs/"
   ]
  },
  {
   "cell_type": "markdown",
   "metadata": {},
   "source": [
    "# Exploratory analysis\n",
    "##### 1. How many total crimes were there at latitude : 52.63902 and -1.131321 on November of 2017.\n",
    "Use the street level crimes data, the documentation for the API can be found at https://data.police.uk/docs/method/crime-street/\n",
    "\n",
    "You should be using the `json` and `requests` libraries"
   ]
  },
  {
   "cell_type": "markdown",
   "metadata": {},
   "source": [
    "##### 2. We've queried the API once, but it could get annoying to retype the url over and over again, create a function `make_api_request` that enables you to query the API.\n",
    "\n",
    "\n",
    " The parameters for the function should be:\n",
    "* lat (int)\n",
    "* lng (int)\n",
    "* date (string): Date in the format YYYY-MM\n",
    "    * default value = `None`\n",
    "    \n",
    "And it should return a json object of \n",
    "\n",
    "for more information on default values check out http://blog.thedigitalcatonline.com/blog/2015/02/11/default-arguments-in-python/"
   ]
  },
  {
   "cell_type": "markdown",
   "metadata": {},
   "source": [
    "##### 3. Write a function that will determine the count of each type of crime for a given latitude and longitude. This is labelled as 'category' in the records\n",
    "\n",
    "The parameters for the function should be:\n",
    "\n",
    "* lat (int)\n",
    "* lng (int)\n",
    "\n",
    "The function should return a dictionary with the count of each type of crime\n",
    "\n",
    "Once you've created it, try it with these locations\n",
    "* lat, lng of 51.5017861,-0.1432319   (Buckingham Palace)\n",
    "* lat, lng of 55.948811, 3.197982     (Edinburgh Castle)\n",
    "\n",
    "*Bonus*: \n",
    "* Write a function that determines the difference between Buckingham Palace and Edinburgh Castle in terms of the number of crimes in each category.\n",
    "    * In which category is there the largest absolute difference between the category of crime?\n",
    "    * Is there a way to account for differences in overall crime levels? (Think math here)"
   ]
  },
  {
   "cell_type": "markdown",
   "metadata": {},
   "source": [
    "##### 4. What is the distribution of outcome statuses for a given latitude and longitude?\n",
    "\n",
    "**NOTE**: You'll notice that some of these crimes do not have crime outcomes. Make these into the category of \"Not Resolved.\"\n",
    "\n",
    "\n",
    "*Bonus* : What is the ratio of crimes Resolved (every other category) to those Not Resolved? Is it higher near Edinburgh Castle or Buckingham Palace?"
   ]
  },
  {
   "cell_type": "markdown",
   "metadata": {},
   "source": [
    "##### 5. Write a function that will return the month that had the highest number of crimes for a latitude, longitude and a year.\n",
    "*Bonus* Make a graph of how the number of crimes changed over time for a year. Is seasonality a factor?"
   ]
  },
  {
   "cell_type": "markdown",
   "metadata": {},
   "source": [
    "## Bonus Open Ended Questions\n",
    "\n",
    "1. Take a look at the https://data.police.uk/docs/method/stops-street/ API. Is there a correlation between gender and being stopped and searched? How about race and being stopped and searched?"
   ]
  }
 ],
 "metadata": {
  "kernelspec": {
   "display_name": "Python 3",
   "language": "python",
   "name": "python3"
  },
  "language_info": {
   "codemirror_mode": {
    "name": "ipython",
    "version": 3
   },
   "file_extension": ".py",
   "mimetype": "text/x-python",
   "name": "python",
   "nbconvert_exporter": "python",
   "pygments_lexer": "ipython3",
   "version": "3.6.5"
  }
 },
 "nbformat": 4,
 "nbformat_minor": 2
}
