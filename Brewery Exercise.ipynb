{
 "cells": [
  {
   "cell_type": "markdown",
   "metadata": {},
   "source": [
    "# Brewery API Exercise"
   ]
  },
  {
   "cell_type": "markdown",
   "metadata": {},
   "source": [
    "Open Brewery DB is a database of breweries in the US.  Here are some exerdcises to practice using APIs and parsing the data you get back.  Documentation for the API can be found here: https://www.openbrewerydb.org/"
   ]
  },
  {
   "cell_type": "code",
   "execution_count": 1,
   "metadata": {},
   "outputs": [],
   "source": [
    "#load the first page with 50 results per page\n",
    "import requests #requests should be installed with anaconda.  If you don't have it do a pip install\n",
    "url = 'https://api.openbrewerydb.org/breweries?page=1&per_page=50'\n",
    "r = requests.get(url)\n",
    "data = r.json()"
   ]
  },
  {
   "cell_type": "code",
   "execution_count": 2,
   "metadata": {},
   "outputs": [
    {
     "data": {
      "text/plain": [
       "[{'id': 2,\n",
       "  'name': 'Avondale Brewing Co',\n",
       "  'brewery_type': 'micro',\n",
       "  'street': '201 41st St S',\n",
       "  'city': 'Birmingham',\n",
       "  'state': 'Alabama',\n",
       "  'postal_code': '35222-1932',\n",
       "  'country': 'United States',\n",
       "  'longitude': '-86.774322',\n",
       "  'latitude': '33.524521',\n",
       "  'phone': '2057775456',\n",
       "  'website_url': 'http://www.avondalebrewing.com',\n",
       "  'updated_at': '2018-08-23T23:19:57.825Z'},\n",
       " {'id': 4,\n",
       "  'name': 'Band of Brothers Brewing Company',\n",
       "  'brewery_type': 'micro',\n",
       "  'street': '1605 23rd Ave',\n",
       "  'city': 'Tuscaloosa',\n",
       "  'state': 'Alabama',\n",
       "  'postal_code': '35401-4653',\n",
       "  'country': 'United States',\n",
       "  'longitude': '-87.5621551272424',\n",
       "  'latitude': '33.1984907123707',\n",
       "  'phone': '2052665137',\n",
       "  'website_url': 'http://www.bandofbrosbrewing.com',\n",
       "  'updated_at': '2018-08-23T23:19:59.462Z'},\n",
       " {'id': 44,\n",
       "  'name': 'Trim Tab Brewing',\n",
       "  'brewery_type': 'micro',\n",
       "  'street': '2721 5th Ave S',\n",
       "  'city': 'Birmingham',\n",
       "  'state': 'Alabama',\n",
       "  'postal_code': '35233-3401',\n",
       "  'country': 'United States',\n",
       "  'longitude': '-86.7914000624146',\n",
       "  'latitude': '33.5128492349817',\n",
       "  'phone': '2057030536',\n",
       "  'website_url': 'http://www.trimtabbrewing.com',\n",
       "  'updated_at': '2018-08-23T23:20:31.423Z'}]"
      ]
     },
     "execution_count": 2,
     "metadata": {},
     "output_type": "execute_result"
    }
   ],
   "source": [
    "#show the first 3 entries\n",
    "data[:3]"
   ]
  },
  {
   "cell_type": "markdown",
   "metadata": {},
   "source": [
    "## Q1: This is only the first 50 results.  Get the next 50 and put them together."
   ]
  },
  {
   "cell_type": "code",
   "execution_count": null,
   "metadata": {},
   "outputs": [],
   "source": []
  },
  {
   "cell_type": "markdown",
   "metadata": {},
   "source": [
    "## Q2: How many of these 100 breweries in are in Alaska?"
   ]
  },
  {
   "cell_type": "code",
   "execution_count": null,
   "metadata": {},
   "outputs": [],
   "source": []
  },
  {
   "cell_type": "markdown",
   "metadata": {},
   "source": [
    "## Q3: Of these 100 breweries, what are the different unique brewery types?"
   ]
  },
  {
   "cell_type": "code",
   "execution_count": null,
   "metadata": {},
   "outputs": [],
   "source": []
  },
  {
   "cell_type": "markdown",
   "metadata": {},
   "source": [
    "## Q4: What is the cloest brewery to \"Devil's Potion Brewing Company LLC\" ?"
   ]
  },
  {
   "cell_type": "markdown",
   "metadata": {},
   "source": [
    "Hint 1: Use Euclidian distance w/ longitude and latitude (assume longitude and latitude are a Carteisan coordinate system)\n",
    "\n",
    "Hint 2: You'll have to ignore the entries with \"none\" for latitude or longitude"
   ]
  },
  {
   "cell_type": "code",
   "execution_count": null,
   "metadata": {},
   "outputs": [],
   "source": []
  },
  {
   "cell_type": "markdown",
   "metadata": {},
   "source": [
    "## Q5: Write a function to find the closest brewery to any other given brewery"
   ]
  },
  {
   "cell_type": "code",
   "execution_count": null,
   "metadata": {},
   "outputs": [],
   "source": []
  },
  {
   "cell_type": "markdown",
   "metadata": {},
   "source": [
    "## Q6: How would you get the first 10 pages from this API and put them all together using a for loop?"
   ]
  },
  {
   "cell_type": "code",
   "execution_count": null,
   "metadata": {},
   "outputs": [],
   "source": []
  }
 ],
 "metadata": {
  "kernelspec": {
   "display_name": "Python 3",
   "language": "python",
   "name": "python3"
  },
  "language_info": {
   "codemirror_mode": {
    "name": "ipython",
    "version": 3
   },
   "file_extension": ".py",
   "mimetype": "text/x-python",
   "name": "python",
   "nbconvert_exporter": "python",
   "pygments_lexer": "ipython3",
   "version": "3.7.0"
  }
 },
 "nbformat": 4,
 "nbformat_minor": 2
}
